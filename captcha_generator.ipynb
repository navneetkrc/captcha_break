{
  "nbformat": 4,
  "nbformat_minor": 0,
  "metadata": {
    "colab": {
      "name": "captcha_generator",
      "version": "0.3.2",
      "provenance": [],
      "collapsed_sections": [],
      "include_colab_link": true
    },
    "kernelspec": {
      "name": "python3",
      "display_name": "Python 3"
    }
  },
  "cells": [
    {
      "cell_type": "markdown",
      "metadata": {
        "id": "view-in-github",
        "colab_type": "text"
      },
      "source": [
        "<a href=\"https://colab.research.google.com/github/navneetkrc/Colab_fastai/blob/master/captcha_generator.ipynb\" target=\"_parent\"><img src=\"https://colab.research.google.com/assets/colab-badge.svg\" alt=\"Open In Colab\"/></a>"
      ]
    },
    {
      "metadata": {
        "id": "5eWiP6hZ6hnx",
        "colab_type": "code",
        "outputId": "0d690c6f-d6a2-4e5f-9eb4-2a844f9dcf90",
        "colab": {
          "base_uri": "https://localhost:8080/",
          "height": 35
        }
      },
      "cell_type": "code",
      "source": [
        "from keras import layers\n",
        "from keras.models import Model\n",
        "from keras.models import load_model\n",
        "from keras import callbacks\n",
        "import os\n",
        "import cv2\n",
        "import string\n",
        "import numpy as np\n",
        "import pandas as pd\n",
        "import matplotlib.pyplot as plt\n",
        "\n",
        "\n"
      ],
      "execution_count": 0,
      "outputs": [
        {
          "output_type": "stream",
          "text": [
            "Using TensorFlow backend.\n"
          ],
          "name": "stderr"
        }
      ]
    },
    {
      "metadata": {
        "id": "iRKBd9HM_Uc0",
        "colab_type": "code",
        "outputId": "c76f8637-e36f-477f-c7c4-b35a1601b72c",
        "colab": {
          "base_uri": "https://localhost:8080/",
          "height": 35
        }
      },
      "cell_type": "code",
      "source": [
        "!ls"
      ],
      "execution_count": 0,
      "outputs": [
        {
          "output_type": "stream",
          "text": [
            "gdrive\tsample_data  symbols\n"
          ],
          "name": "stdout"
        }
      ]
    },
    {
      "metadata": {
        "id": "_XZ4jU-W-LXk",
        "colab_type": "code",
        "colab": {}
      },
      "cell_type": "code",
      "source": [
        "symbols = \"abcdef\" + \"0123456789\" # All symbols captcha can contain\n",
        "num_symbols = len(symbols)\n",
        "img_shape = (40, 150, 1)"
      ],
      "execution_count": 0,
      "outputs": []
    },
    {
      "metadata": {
        "id": "XVR2Yfo6-b6M",
        "colab_type": "code",
        "colab": {}
      },
      "cell_type": "code",
      "source": [
        "from google.colab import drive\n",
        "drive.mount('/content/gdrive')"
      ],
      "execution_count": 0,
      "outputs": []
    },
    {
      "metadata": {
        "id": "Ocf8t8ZU-b9A",
        "colab_type": "code",
        "outputId": "646e2306-4276-4e21-d26e-6a87601f79ec",
        "colab": {
          "base_uri": "https://localhost:8080/",
          "height": 72
        }
      },
      "cell_type": "code",
      "source": [
        "#!cp -r /content/gdrive/My\\ Drive/captchas/sym  /content/sym2/\n",
        "!ls"
      ],
      "execution_count": 0,
      "outputs": [
        {
          "output_type": "stream",
          "text": [
            "new_captchas_labelling.csv  TIMES.TTF\t\t   train_set_clean\n",
            "new_train_set\t\t    train_set_captcha\t   train_set_clean.zip\n",
            "sample_data\t\t    train_set_captcha.zip\n"
          ],
          "name": "stdout"
        }
      ]
    },
    {
      "metadata": {
        "id": "G7XEigtaaU2W",
        "colab_type": "code",
        "colab": {}
      },
      "cell_type": "code",
      "source": [
        "os.listdir('/content/dataset/')"
      ],
      "execution_count": 0,
      "outputs": []
    },
    {
      "metadata": {
        "id": "aGJAdNz3-LaV",
        "colab_type": "code",
        "colab": {}
      },
      "cell_type": "code",
      "source": [
        "def create_model():\n",
        "    img = layers.Input(shape=img_shape) # Get image as an input and process it through some Convs\n",
        "    conv1 = layers.Conv2D(16, (3, 3), padding='same', activation='relu')(img)\n",
        "    mp1 = layers.MaxPooling2D(padding='same')(conv1)  # 100x25\n",
        "    conv2 = layers.Conv2D(32, (3, 3), padding='same', activation='relu')(mp1)\n",
        "    mp2 = layers.MaxPooling2D(padding='same')(conv2)  # 50x13\n",
        "    conv3 = layers.Conv2D(32, (3, 3), padding='same', activation='relu')(mp2)\n",
        "    bn = layers.BatchNormalization()(conv3)\n",
        "    mp3 = layers.MaxPooling2D(padding='same')(bn)  # 25x7\n",
        "    \n",
        "    # Get flattened vector and make 5 branches from it. Each branch will predict one letter\n",
        "    flat = layers.Flatten()(mp3)\n",
        "    outs = []\n",
        "    for _ in range(9):\n",
        "        dens1 = layers.Dense(64, activation='relu')(flat)\n",
        "        drop = layers.Dropout(0.4)(dens1)\n",
        "        res = layers.Dense(num_symbols, activation='sigmoid')(drop)\n",
        "\n",
        "        outs.append(res)\n",
        "    \n",
        "    # Compile model and return it\n",
        "    model = Model(img, outs)\n",
        "    model.compile(loss='categorical_crossentropy', optimizer='adam',metrics=[\"accuracy\"])\n",
        "    print(model.summary())\n",
        "    return model"
      ],
      "execution_count": 0,
      "outputs": []
    },
    {
      "metadata": {
        "id": "iluyPiizCwFy",
        "colab_type": "code",
        "colab": {}
      },
      "cell_type": "code",
      "source": [
        "model = create_model()"
      ],
      "execution_count": 0,
      "outputs": []
    },
    {
      "metadata": {
        "id": "GImEwvAu2Zn6",
        "colab_type": "code",
        "outputId": "ef9588bd-fddc-4e56-8a14-a133fa7053ff",
        "colab": {
          "base_uri": "https://localhost:8080/",
          "height": 35
        }
      },
      "cell_type": "code",
      "source": [
        "symbols.find('9')"
      ],
      "execution_count": 0,
      "outputs": [
        {
          "output_type": "execute_result",
          "data": {
            "text/plain": [
              "15"
            ]
          },
          "metadata": {
            "tags": []
          },
          "execution_count": 46
        }
      ]
    },
    {
      "metadata": {
        "id": "KE8xTLkv-Lcv",
        "colab_type": "code",
        "colab": {}
      },
      "cell_type": "code",
      "source": [
        "def preprocess_data():\n",
        "    n_samples = len(os.listdir('/content/train_set_captcha'))\n",
        "    \n",
        "    \n",
        "    X = np.zeros((n_samples, 40, 150)) #1070*50*200\n",
        "    y = np.zeros((1, n_samples, num_symbols)) #5*1070*36\n",
        "\n",
        "    for i, pic in enumerate(os.listdir('/content/train_set_captcha')):\n",
        "        # Read image as grayscale\n",
        "        img = cv2.imread(os.path.join('/content/train_set_captcha/', pic), cv2.IMREAD_GRAYSCALE)\n",
        "        print(img.shape)\n",
        "        labelling_csv = pd.read_csv('/content/new_captchas_labelling.csv')\n",
        "\n",
        "        texts = labelling_csv.loc[:, 'label'].to_dict()\n",
        "       \n",
        "        pic_target = texts[i]\n",
        "        print(len(pic_target))\n",
        "\n",
        "        # Scale and reshape image\n",
        "        img = img / 255.0\n",
        "        #img = np.reshape(img, (30,90, 1))\n",
        "        # Define targets and code them using OneHotEncoding\n",
        "        targs = np.zeros((len(pic_target), num_symbols))\n",
        "        #targs = np.reshape(targs, (9,36))\n",
        "        for j, l in enumerate(pic_target):\n",
        "            ind = symbols.find(l)\n",
        "            targs[j, ind] = 1\n",
        "        X[i] = img\n",
        "        y[:, i] = targs\n",
        "\n",
        "    # Return final data\n",
        "    return X, y\n"
      ],
      "execution_count": 0,
      "outputs": []
    },
    {
      "metadata": {
        "id": "dPOwEFATvhpx",
        "colab_type": "code",
        "colab": {}
      },
      "cell_type": "code",
      "source": [
        "    for i, pic in enumerate(os.listdir('/content/train_set_captcha')):\n",
        "        # Read image as grayscale\n",
        "        img = cv2.imread(os.path.join('/content/train_set_captcha/', pic), cv2.IMREAD_GRAYSCALE)\n",
        "        print(img.shape)\n",
        "        img = img / 255.0\n",
        "   \n",
        "        print(img.shape, img)\n",
        "        \n",
        "      \n",
        "        \n",
        "        \n",
        "        \n"
      ],
      "execution_count": 0,
      "outputs": []
    },
    {
      "metadata": {
        "id": "Mlwl43qgxVtT",
        "colab_type": "code",
        "colab": {}
      },
      "cell_type": "code",
      "source": [
        ""
      ],
      "execution_count": 0,
      "outputs": []
    },
    {
      "metadata": {
        "id": "jjs21JsevhsG",
        "colab_type": "code",
        "colab": {}
      },
      "cell_type": "code",
      "source": [
        ""
      ],
      "execution_count": 0,
      "outputs": []
    },
    {
      "metadata": {
        "id": "fTYmRjSRvhn_",
        "colab_type": "code",
        "colab": {}
      },
      "cell_type": "code",
      "source": [
        ""
      ],
      "execution_count": 0,
      "outputs": []
    },
    {
      "metadata": {
        "id": "dXcan8_Qvhj2",
        "colab_type": "code",
        "colab": {}
      },
      "cell_type": "code",
      "source": [
        ""
      ],
      "execution_count": 0,
      "outputs": []
    },
    {
      "metadata": {
        "id": "rrnr7rijiqQf",
        "colab_type": "code",
        "colab": {}
      },
      "cell_type": "code",
      "source": [
        "len(os.listdir('/content/train_set/'))"
      ],
      "execution_count": 0,
      "outputs": []
    },
    {
      "metadata": {
        "id": "KhyNPhbyiqWu",
        "colab_type": "code",
        "colab": {}
      },
      "cell_type": "code",
      "source": [
        "\n",
        "X, y = preprocess_data()\n",
        "X_train, y_train = X[:1250], y[:, :1250]\n",
        "X_test, y_test = X[1251:], y[:, 1251:]"
      ],
      "execution_count": 0,
      "outputs": []
    },
    {
      "metadata": {
        "id": "bwga4Vlp-Le-",
        "colab_type": "code",
        "colab": {}
      },
      "cell_type": "code",
      "source": [
        "hist = model.fit(X_train, [y_train[0]], batch_size=1, epochs=620,verbose=1, validation_split=0.2)"
      ],
      "execution_count": 0,
      "outputs": []
    },
    {
      "metadata": {
        "id": "D-z7KMT-8SKD",
        "colab_type": "code",
        "colab": {}
      },
      "cell_type": "code",
      "source": [
        "# Define function to predict captcha\n",
        "def predict(filepath):\n",
        "    img = cv2.imread(filepath, cv2.IMREAD_GRAYSCALE)\n",
        "    if img is not None:\n",
        "        img = img / 255.0\n",
        "    else:\n",
        "        print(\"Not detected\");\n",
        "    res = np.array(model.predict(img[np.newaxis, :, :, np.newaxis]))\n",
        "    ans = np.reshape(res, (9, 36))\n",
        "    l_ind = []\n",
        "    probs = []\n",
        "    for a in ans:\n",
        "        l_ind.append(np.argmax(a))\n",
        "        #probs.append(np.max(a))\n",
        "\n",
        "    capt = ''\n",
        "    for l in l_ind:\n",
        "        capt += symbols[l]\n",
        "    return capt#, sum(probs) / 5"
      ],
      "execution_count": 0,
      "outputs": []
    },
    {
      "metadata": {
        "id": "Tugu8WTn8t0F",
        "colab_type": "code",
        "colab": {}
      },
      "cell_type": "code",
      "source": [
        "score= model.evaluate(X_test,[y_test[1]],verbose=1)\n",
        "print('Test Loss and accuracy:', score)"
      ],
      "execution_count": 0,
      "outputs": []
    },
    {
      "metadata": {
        "id": "exMzfmha8t2r",
        "colab_type": "code",
        "colab": {}
      },
      "cell_type": "code",
      "source": [
        "model.evaluate(X_test, [y_test[0], y_test[1], y_test[2], y_test[3], y_test[4],y_test[5], y_test[6], y_test[7], y_test[8]])\n",
        "print(predict(\"gdrive/My Drive/captchas/train_set/c8bff503d.png\"))\n",
        "print(predict(\"gdrive/My Drive/captchas/train_set/ecbfd006.png\"))\n",
        "print(predict(\"gdrive/My Drive/captchas/train_set/7f94a.png\"))\n",
        "print(predict(\"gdrive/My Drive/captchas/train_set/a8bddb.png\"))\n",
        "print(predict('gdrive/My Drive/captchas/train_set/88312.png'))\n"
      ],
      "execution_count": 0,
      "outputs": []
    },
    {
      "metadata": {
        "id": "IC43-ql6xk7f",
        "colab_type": "code",
        "colab": {}
      },
      "cell_type": "code",
      "source": [
        "#! cp \"gdrive/My Drive/captchas/train_set/a8bddb.png\" /content/\n",
        "#!ls\n",
        "import pytesseract\n",
        "from PIL import Image\n",
        "\n",
        "!sudo apt install tesseract-ocr\n",
        "!sudo apt install libtesseract-dev"
      ],
      "execution_count": 0,
      "outputs": []
    },
    {
      "metadata": {
        "id": "NO-HsvfB5EIM",
        "colab_type": "code",
        "colab": {}
      },
      "cell_type": "code",
      "source": [
        ""
      ],
      "execution_count": 0,
      "outputs": []
    },
    {
      "metadata": {
        "id": "DrGcCIC38UYM",
        "colab_type": "code",
        "colab": {}
      },
      "cell_type": "code",
      "source": [
        ""
      ],
      "execution_count": 0,
      "outputs": []
    },
    {
      "metadata": {
        "id": "9R3xgslI8Ubo",
        "colab_type": "code",
        "colab": {}
      },
      "cell_type": "code",
      "source": [
        "\n"
      ],
      "execution_count": 0,
      "outputs": []
    },
    {
      "metadata": {
        "id": "8GQoy2G14ils",
        "colab_type": "code",
        "colab": {}
      },
      "cell_type": "code",
      "source": [
        "\n"
      ],
      "execution_count": 0,
      "outputs": []
    },
    {
      "metadata": {
        "id": "8W9BrMp35OgZ",
        "colab_type": "code",
        "colab": {}
      },
      "cell_type": "code",
      "source": [
        "from google.colab import files\n",
        "files.upload()# font uploaded here is TIMES.TTF from https://cs.fit.edu/code/svn/ndworld/Resources/Fonts/times.ttf\n"
      ],
      "execution_count": 0,
      "outputs": []
    },
    {
      "metadata": {
        "id": "AlcXKGmY4kIm",
        "colab_type": "code",
        "colab": {}
      },
      "cell_type": "code",
      "source": [
        "#!pip install claptcha\n",
        "from PIL import Image\n",
        "import random\n",
        "import string\n",
        "#from claptcha import Claptcha\n",
        "\n",
        "def randst():\n",
        "     rnd = (random.choice('abcdef0123456789') for _ in range(random.randint(4,9)))\n",
        "     return \"\".join(rnd)\n",
        "\n"
      ],
      "execution_count": 0,
      "outputs": []
    },
    {
      "metadata": {
        "id": "rJ1mrsrfXJAG",
        "colab_type": "code",
        "outputId": "e72fd258-4c8b-4b5c-b022-7f5a80efbb0f",
        "colab": {
          "base_uri": "https://localhost:8080/",
          "height": 35
        }
      },
      "cell_type": "code",
      "source": [
        "\n",
        "\n",
        "!ls"
      ],
      "execution_count": 0,
      "outputs": [
        {
          "output_type": "stream",
          "text": [
            "new_train_set  sample_data  TIMES.TTF  train_set_captcha  train_set_clean\n"
          ],
          "name": "stdout"
        }
      ]
    },
    {
      "metadata": {
        "id": "Ce3ZtjYODm5Y",
        "colab_type": "code",
        "colab": {}
      },
      "cell_type": "code",
      "source": [
        "!mkdir train_set_clean"
      ],
      "execution_count": 0,
      "outputs": []
    },
    {
      "metadata": {
        "id": "fD4IW_4yAH3v",
        "colab_type": "code",
        "colab": {}
      },
      "cell_type": "code",
      "source": [
        "from IPython.display import Image as pyimg, display\n",
        "import matplotlib.pyplot as plt\n",
        "texts = {\"captcha\":[], \"label\" : []}\n",
        "for i in range(2500):\n",
        "  a = randst()\n",
        "  c = Claptcha(a, \"TIMES.TTF\", resample= Image.BICUBIC, noise=0.0)\n",
        "  cn = Claptcha_non_strike(a, \"TIMES.TTF\", resample= Image.BICUBIC, noise=0.0)\n",
        "  text, imag = c.write('train_set_captcha/' +'captcha' +str(i) + '.png')\n",
        "  display(pyimg(imag))\n",
        "  texts[\"captcha\"].append('captcha' +str(i) + '.png')\n",
        "  texts[\"label\"].append(text)\n",
        "  #img = Image.open(str(text) + '.png')\n",
        "  text, imag = cn.write('train_set_clean/' +'captcha' +str(i) + '.png')\n",
        "  display(pyimg(imag))\n",
        "  \n",
        "  "
      ],
      "execution_count": 0,
      "outputs": []
    },
    {
      "metadata": {
        "id": "0-okka69AYp1",
        "colab_type": "code",
        "outputId": "8296b02a-74a7-4835-ffaa-1afac3cbc4ea",
        "colab": {
          "base_uri": "https://localhost:8080/",
          "height": 57
        }
      },
      "cell_type": "code",
      "source": [
        "from IPython.display import Image as pyimg, display\n",
        "import matplotlib.pyplot as plt\n",
        "\n",
        "display(pyimg('/content/train_set_clean/captcha0.png'))"
      ],
      "execution_count": 0,
      "outputs": [
        {
          "output_type": "display_data",
          "data": {
            "image/png": "[encoded data removed]",
            "text/plain": [
              "<IPython.core.display.Image object>"
            ]
          },
          "metadata": {
            "tags": []
          }
        }
      ]
    },
    {
      "metadata": {
        "id": "9kunlh3EIxP_",
        "colab_type": "code",
        "colab": {}
      },
      "cell_type": "code",
      "source": [
        "#os.listdir('/content/train_set/')\n",
        "!zip -r /content/train_set_captcha.zip /content/train_set_captcha\n",
        "!zip -r /content/train_set_clean.zip /content/train_set_clean"
      ],
      "execution_count": 0,
      "outputs": []
    },
    {
      "metadata": {
        "id": "RhzmZBgGIx7B",
        "colab_type": "code",
        "colab": {}
      },
      "cell_type": "code",
      "source": [
        "files.download('/content/train_set_captcha.zip')\n",
        "files.download('/content/train_set_clean.zip')"
      ],
      "execution_count": 0,
      "outputs": []
    },
    {
      "metadata": {
        "id": "7TTeyPPdqrEH",
        "colab_type": "text"
      },
      "cell_type": "markdown",
      "source": [
        "#capcha downloaded as needed"
      ]
    },
    {
      "metadata": {
        "id": "JoETLtjeqgwA",
        "colab_type": "code",
        "colab": {}
      },
      "cell_type": "code",
      "source": [
        ""
      ],
      "execution_count": 0,
      "outputs": []
    },
    {
      "metadata": {
        "id": "fnzGS48Fqg7B",
        "colab_type": "code",
        "colab": {}
      },
      "cell_type": "code",
      "source": [
        ""
      ],
      "execution_count": 0,
      "outputs": []
    },
    {
      "metadata": {
        "id": "9Y5bfYOTqhBy",
        "colab_type": "code",
        "colab": {}
      },
      "cell_type": "code",
      "source": [
        ""
      ],
      "execution_count": 0,
      "outputs": []
    },
    {
      "metadata": {
        "id": "AeCLtejsqhFC",
        "colab_type": "code",
        "colab": {}
      },
      "cell_type": "code",
      "source": [
        ""
      ],
      "execution_count": 0,
      "outputs": []
    },
    {
      "metadata": {
        "id": "0QoZSv5mqhWE",
        "colab_type": "text"
      },
      "cell_type": "markdown",
      "source": [
        "\n",
        "\n",
        "---\n",
        "\n"
      ]
    },
    {
      "metadata": {
        "id": "lLG4hCSfqiQt",
        "colab_type": "text"
      },
      "cell_type": "markdown",
      "source": [
        "\n",
        "\n",
        "---\n",
        "\n",
        "#other experiments"
      ]
    },
    {
      "metadata": {
        "id": "MYuvhr-PAH9_",
        "colab_type": "code",
        "colab": {}
      },
      "cell_type": "code",
      "source": [
        "#!ls\n",
        "from IPython.display import Image as pyimg, display\n",
        "import matplotlib.pyplot as plt\n",
        "#display(pyimg('train_set/captcha2.png'))\n",
        "#(os.listdir('/content/new_set/'))\n",
        "import pandas as pd\n",
        "pd_ob = pd.DataFrame(texts)\n",
        "print(pd_ob)\n",
        "pd_ob.to_csv('new_captchas_labelling.csv')\n",
        "files.download('new_captchas_labelling.csv')"
      ],
      "execution_count": 0,
      "outputs": []
    },
    {
      "metadata": {
        "id": "RfXCW9u34kFy",
        "colab_type": "code",
        "outputId": "3170ff27-de6d-40e2-e764-c3d7a9b1204f",
        "colab": {
          "base_uri": "https://localhost:8080/",
          "height": 35
        }
      },
      "cell_type": "code",
      "source": [
        "text, im = c.write('captcha.png')\n",
        "img = Image.open('captcha.png')\n",
        "print(img.size)\n"
      ],
      "execution_count": 0,
      "outputs": [
        {
          "output_type": "stream",
          "text": [
            "(150, 40)\n"
          ],
          "name": "stdout"
        }
      ]
    },
    {
      "metadata": {
        "id": "3d4wpax95i5H",
        "colab_type": "code",
        "outputId": "faa6652a-3f2d-46cc-acf3-320c83da6901",
        "colab": {
          "base_uri": "https://localhost:8080/",
          "height": 92
        }
      },
      "cell_type": "code",
      "source": [
        "from IPython.display import Image as pyimg, display\n",
        "import matplotlib.pyplot as plt\n",
        "\n",
        "display(pyimg(img))"
      ],
      "execution_count": 0,
      "outputs": [
        {
          "output_type": "stream",
          "text": [
            "/usr/local/lib/python3.6/dist-packages/IPython/core/formatters.py:364: FormatterWarning: image/png formatter returned invalid type <class 'PIL.PngImagePlugin.PngImageFile'> (expected (<class 'bytes'>, <class 'str'>)) for object: <IPython.core.display.Image object>\n",
            "  FormatterWarning\n"
          ],
          "name": "stderr"
        },
        {
          "output_type": "display_data",
          "data": {
            "text/plain": [
              "<IPython.core.display.Image object>"
            ]
          },
          "metadata": {
            "tags": []
          }
        }
      ]
    },
    {
      "metadata": {
        "id": "fHaeLZJy9IGa",
        "colab_type": "code",
        "colab": {}
      },
      "cell_type": "code",
      "source": [
        ""
      ],
      "execution_count": 0,
      "outputs": []
    },
    {
      "metadata": {
        "id": "TS94S3yJ9IU2",
        "colab_type": "code",
        "colab": {}
      },
      "cell_type": "code",
      "source": [
        "\n",
        "# -*- coding: utf-8 -*-\n",
        "\n",
        "\"\"\"This module defines Claptcha and ClaptchaError classes.\"\"\"\n",
        "\n",
        "import sys\n",
        "import os\n",
        "import random\n",
        "from functools import wraps\n",
        "from io import BytesIO\n",
        "from PIL import Image, ImageDraw, ImageFont\n",
        "\n",
        "\n",
        "class ClaptchaError(Exception):\n",
        "    \"\"\"Exception class for Claptcha errors.\"\"\"\n",
        "\n",
        "    pass\n",
        "\n",
        "\n",
        "class Claptcha_non_strike(object):\n",
        "    r\"\"\"\n",
        "    Claptcha class.\n",
        "    Claptcha can be use to create PIL Images, BytesIO objects and image\n",
        "    files with CAPTCHA messages. User has to provide at least a source\n",
        "    (a string containing text used in CAPTCHA image or a callable object\n",
        "    returning a string) and a filepath to TTF font file.\n",
        "    Additionally, Claptcha allows to define image size and estimated\n",
        "    margins, used in automatically calculating font size. By default,\n",
        "    Claptcha generates a PNG image using bicubic resampling filter\n",
        "    (configurable).\n",
        "    Optionally, user can define white noise, making it less readable for\n",
        "    OCR software. However, this significantly extends execution time of\n",
        "    image creation.\n",
        "    \"\"\"\n",
        "\n",
        "    def __init__(self, source, font,\n",
        "                 size=(150, 40), margin=(5, 1),\n",
        "                 **kwargs):\n",
        "        r\"\"\"\n",
        "        Claptcha object init.\n",
        "        Claptcha object requires at least a text source (a string or a\n",
        "        callable object returning a string) and a path to a TTF file. Both\n",
        "        are used in generating text in returned CAPTCHA image with a given\n",
        "        font. Callable object allow for creating variable CAPTCHAs without\n",
        "        redeclaring Claptcha instance, e.g. a randomized stream of characters\n",
        "        :param source:\n",
        "            String or a callable object returning a string.\n",
        "        :param font:\n",
        "            Valid path (relative or absolute) to a TTF file.\n",
        "        :param size:\n",
        "            A pair with CAPTCHA size (width, height)\n",
        "            in pixels.\n",
        "        :param margin:\n",
        "            A pair with CAPTCHA x and y margins in pixels\n",
        "            Note that generated text may slightly overlap\n",
        "            given margins, you should treat them only as\n",
        "            an estimate.\n",
        "        :param \\**kwargs:\n",
        "            See below\n",
        "        :Keyword Arguments:\n",
        "            * *format* (``string``) --\n",
        "              Image format acceptable by Image class from PIL package.\n",
        "            * *resample* (``int``) --\n",
        "              Resampling filter. Allowed: Image.NEAREST, Image.BILINEAR and\n",
        "              Image.BICUBIC. Default: Image.BILINEAR.\n",
        "            * *noise* (``float``) --\n",
        "              Parameter from range [0,1] used in creating noise effect in\n",
        "              CAPTCHA image. If not larger than 1/255, no noise if generated.\n",
        "              It is advised to not use this option if you want to focus on\n",
        "              efficiency, since generating noise can significantly extend\n",
        "              image creation time. Default: 0.\n",
        "        \"\"\"\n",
        "        self.source = source\n",
        "        self.size = size\n",
        "        self.margin = margin\n",
        "        self.font = font\n",
        "\n",
        "        self.format = kwargs.get('format', 'PNG')\n",
        "        self.resample = kwargs.get('resample', Image.BILINEAR)\n",
        "        self.noise = abs(kwargs.get('noise', 0.))\n",
        "\n",
        "    @property\n",
        "    def image(self):\n",
        "        r\"\"\"\n",
        "        Tuple with a CAPTCHA text and a Image object.\n",
        "        Images are generated on the fly, using given text source, TTF font and\n",
        "        other parameters passable through __init__. All letters in used text\n",
        "        are morphed. Also a line is morphed and pased onto CAPTCHA text.\n",
        "        Additionaly, if self.noise > 1/255, a \"snowy\" image is merged with\n",
        "        CAPTCHA image with a 50/50 ratio.\n",
        "        Property returns a pair containing a string with text in returned\n",
        "        image and image itself.\n",
        "        :returns: ``tuple`` (CAPTCHA text, Image object)\n",
        "        \"\"\"\n",
        "        text = self.text\n",
        "        w, h = self.font.getsize(text)\n",
        "        margin_x = round(self.margin_x * w / self.w)\n",
        "        margin_y = round(self.margin_y * h / self.h)\n",
        "\n",
        "        image = Image.new('RGB',\n",
        "                          (w + 2*margin_x, h + 2*margin_y),\n",
        "                          (255, 255, 255))\n",
        "\n",
        "        # Text\n",
        "        self._writeText(image, text, pos=(margin_x, margin_y))\n",
        "\n",
        "        # Line\n",
        "        self._drawLine(image)\n",
        "\n",
        "        # White noise\n",
        "        noise = self._whiteNoise(image.size)\n",
        "        if noise is not None:\n",
        "            image = Image.blend(image, noise, 0.5)\n",
        "\n",
        "        # Resize\n",
        "        image = image.resize(self.size, resample=self.resample)\n",
        "\n",
        "        return (text, image)\n",
        "\n",
        "    @property\n",
        "    def bytes(self):\n",
        "        r\"\"\"\n",
        "        Tuple with a CAPTCHA text and a BytesIO object.\n",
        "        Property calls self.image and saves image contents in a BytesIO\n",
        "        instance, returning CAPTCHA text and BytesIO as a tuple.\n",
        "        See: image.\n",
        "        :returns: ``tuple`` (CAPTCHA text, BytesIO object)\n",
        "        \"\"\"\n",
        "        text, image = self.image\n",
        "        bytes = BytesIO()\n",
        "        image.save(bytes, format=self.format)\n",
        "        bytes.seek(0)\n",
        "        return (text, bytes)\n",
        "\n",
        "    def write(self, file):\n",
        "        r\"\"\"\n",
        "        Save CAPTCHA image in given filepath.\n",
        "        Property calls self.image and saves image contents in a file,\n",
        "        returning CAPTCHA text and filepath as a tuple.\n",
        "        See: image.\n",
        "        :param file:\n",
        "            Path to file, where CAPTCHA image will be saved.\n",
        "        :returns: ``tuple`` (CAPTCHA text, filepath)\n",
        "        \"\"\"\n",
        "        text, image = self.image\n",
        "        image.save(file, format=self.format)\n",
        "        return (text, file)\n",
        "\n",
        "    @property\n",
        "    def source(self):\n",
        "        \"\"\"Text source, either a string or a callable object.\"\"\"\n",
        "        return self.__source\n",
        "\n",
        "    @source.setter\n",
        "    def source(self, source):\n",
        "        if not (isinstance(source, str) or callable(source)):\n",
        "            raise ClaptchaError(\"source has to be either a string or be callable\")\n",
        "        self.__source = source\n",
        "\n",
        "    @property\n",
        "    def text(self):\n",
        "        \"\"\"Text received from self.source.\"\"\"\n",
        "        if isinstance(self.source, str):\n",
        "            return self.source\n",
        "        else:\n",
        "            return self.source()\n",
        "\n",
        "    def _with_pair_validator(func):\n",
        "        @wraps(func)\n",
        "        def wrapper(inst, pair):\n",
        "            if not (hasattr(pair, '__len__') and hasattr(pair, '__getitem__')):\n",
        "                raise ClaptchaError(\"Sequence not provided\")\n",
        "            if len(pair) != 2:\n",
        "                raise ClaptchaError(\"Sequence has to have exactly 2 elements\")\n",
        "            return func(inst, pair)\n",
        "        return wrapper\n",
        "\n",
        "    @property\n",
        "    def size(self):\n",
        "        \"\"\"CAPTCHA image size.\"\"\"\n",
        "        return self.__size\n",
        "\n",
        "    @size.setter\n",
        "    @_with_pair_validator\n",
        "    def size(self, size):\n",
        "        self.__size = (int(size[0]), int(size[1]))\n",
        "\n",
        "    @property\n",
        "    def w(self):\n",
        "        \"\"\"CAPTCHA image width.\"\"\"\n",
        "        return self.size[0]\n",
        "\n",
        "    @property\n",
        "    def h(self):\n",
        "        \"\"\"CAPTCHA image height.\"\"\"\n",
        "        return self.size[1]\n",
        "\n",
        "    @property\n",
        "    def margin(self):\n",
        "        \"\"\"CAPTCHA image estimated margin.\"\"\"\n",
        "        return self.__margin\n",
        "\n",
        "    @margin.setter\n",
        "    @_with_pair_validator\n",
        "    def margin(self, margin):\n",
        "        if 2*margin[1] > self.h:\n",
        "            raise ClaptchaError(\"Margin y cannot be larger than half of image height.\")\n",
        "        self.__margin = (int(margin[0]), int(margin[1]))\n",
        "\n",
        "    @property\n",
        "    def margin_x(self):\n",
        "        \"\"\"CAPTCHA image estimated x margin.\"\"\"\n",
        "        return self.__margin[0]\n",
        "\n",
        "    @property\n",
        "    def margin_y(self):\n",
        "        \"\"\"CAPTCHA image estimated y margin.\"\"\"\n",
        "        return self.__margin[1]\n",
        "\n",
        "    def _with_file_validator(func):\n",
        "        @wraps(func)\n",
        "        def wrapper(inst, file):\n",
        "            if not isinstance(file, ImageFont.ImageFont):\n",
        "                if not os.path.exists(file):\n",
        "                    raise ClaptchaError(\"%s doesn't exist\" % (file,))\n",
        "                if not os.path.isfile(file):\n",
        "                    raise ClaptchaError(\"%s is not a file\" % (file,))\n",
        "            return func(inst, file)\n",
        "        return wrapper\n",
        "\n",
        "    @property\n",
        "    def font(self):\n",
        "        \"\"\"ImageFont object from PIL package.\"\"\"\n",
        "        return self.__font\n",
        "\n",
        "    @font.setter\n",
        "    @_with_file_validator\n",
        "    def font(self, font):\n",
        "        if isinstance(font, ImageFont.ImageFont):\n",
        "            self.__font = font\n",
        "        else:\n",
        "            fontsize = self.h - 2 * self.margin_y\n",
        "            self.__font = ImageFont.truetype(font, fontsize)\n",
        "\n",
        "    @property\n",
        "    def noise(self):\n",
        "        \"\"\"Noise parameter from [0,1].\"\"\"\n",
        "        return self.__noise\n",
        "\n",
        "    @noise.setter\n",
        "    def noise(self, noise):\n",
        "        if noise < 0. or noise > 1.:\n",
        "            raise ClaptchaError(\"only acceptable noise amplitude from range [0:1]\")\n",
        "        self.__noise = noise\n",
        "\n",
        "    def _writeText(self, image, text, pos):\n",
        "        \"\"\"Write morphed text in Image object.\"\"\"\n",
        "        offset = 0\n",
        "        x, y = pos\n",
        "\n",
        "        for c in text:\n",
        "            # Write letter\n",
        "            c_size = self.font.getsize(c)\n",
        "            c_image = Image.new('RGBA', c_size, (0, 0, 0, 0))\n",
        "            c_draw = ImageDraw.Draw(c_image)\n",
        "            c_draw.text((0, 0), c, font=self.font, fill=(0, 0, 0, 255))\n",
        "\n",
        "            # Transform\n",
        "            #c_image = self._rndLetterTransform(c_image)\n",
        "\n",
        "            # Paste onto image\n",
        "            image.paste(c_image, (x+offset, y), c_image)\n",
        "            offset += c_size[0]\n",
        "\n",
        "    def _drawLine(self, image):\n",
        "        \"\"\"Draw morphed line in Image object.\"\"\"\n",
        "        w, h = image.size\n",
        "        w *= 5\n",
        "        h *= 5\n",
        "\n",
        "        l_image = Image.new('RGBA', (w, h), (0, 0, 0, 0))\n",
        "        l_draw = ImageDraw.Draw(l_image)\n",
        "\n",
        "        x1 = int(w *0)\n",
        "        y1 = int(h * 0)\n",
        "        x2 = int(w * 0)\n",
        "        y2 = int(h * 0)\n",
        "\n",
        "        # Line width modifier was chosen as an educated guess\n",
        "        # based on default image area.\n",
        "        l_width = round((w * h)**0.5 * 2.284e-2)\n",
        "\n",
        "        # Draw\n",
        "        l_draw.line(((x1, y1), (x2, y2)), fill=(0, 0, 0, 255), width=l_width)\n",
        "\n",
        "        # Transform\n",
        "        l_image = self._rndLineTransform(l_image)\n",
        "        l_image = l_image.resize(image.size, resample=self.resample)\n",
        "\n",
        "        # Paste onto image\n",
        "        image.paste(l_image, (0, 0), l_image)\n",
        "\n",
        "    def _whiteNoise(self, size):\n",
        "        \"\"\"Generate white noise and merge it with given Image object.\"\"\"\n",
        "        if self.noise > 0.003921569:  # 1./255.\n",
        "            w, h = size\n",
        "\n",
        "            pixel = (lambda noise: round(255 * random.uniform(1-noise, 1)))\n",
        "\n",
        "            n_image = Image.new('RGB', size, (0, 0, 0, 0))\n",
        "            rnd_grid = map(lambda _: tuple([pixel(self.noise)]) * 3,\n",
        "                           [0] * w * h)\n",
        "            n_image.putdata(list(rnd_grid))\n",
        "            return n_image\n",
        "        else:\n",
        "            return None\n",
        "\n",
        "    def _rndLetterTransform(self, image):\n",
        "        \"\"\"Randomly morph a single character.\"\"\"\n",
        "        w, h = image.size\n",
        "\n",
        "        dx = w * 0\n",
        "        dy = h * 0\n",
        "\n",
        "        x1, y1 = self.__class__._rndPointDisposition(dx, dy)\n",
        "        x2, y2 = self.__class__._rndPointDisposition(dx, dy)\n",
        "\n",
        "        w += abs(x1) + abs(x2)\n",
        "        h += abs(x1) + abs(x2)\n",
        "\n",
        "        quad = self.__class__._quadPoints((w, h), (x1, y1), (x2, y2))\n",
        "\n",
        "        return image.transform(image.size, Image.QUAD,\n",
        "                               data=quad, resample=self.resample)\n",
        "\n",
        "    def _rndLineTransform(self, image):\n",
        "        \"\"\"Randomly morph Image object with drawn line.\"\"\"\n",
        "        w, h = image.size\n",
        "\n",
        "        dx = w * 0\n",
        "        dy = h * 0\n",
        "\n",
        "        x1, y1 = [abs(z) for z in self.__class__._rndPointDisposition(dx, dy)]\n",
        "        x2, y2 = [abs(z) for z in self.__class__._rndPointDisposition(dx, dy)]\n",
        "\n",
        "        quad = self.__class__._quadPoints((w, h), (x1, y1), (x2, y2))\n",
        "\n",
        "        return image.transform(image.size, Image.QUAD,\n",
        "                               data=quad, resample=self.resample)\n",
        "\n",
        "    @staticmethod\n",
        "    def _rndPointDisposition(dx, dy):\n",
        "        \"\"\"Return random disposition point.\"\"\"\n",
        "        x = int(random.uniform(-dx, dx))\n",
        "        y = int(random.uniform(-dy, dy))\n",
        "        return (x, y)\n",
        "\n",
        "    @staticmethod\n",
        "    def _quadPoints(size, disp1, disp2):\n",
        "        \"\"\"Return points for QUAD transformation.\"\"\"\n",
        "        w, h = size\n",
        "        x1, y1 = disp1\n",
        "        x2, y2 = disp2\n",
        "\n",
        "        return (\n",
        "            x1,    -y1,\n",
        "            -x1,    h + y2,\n",
        "            w + x2, h - y2,\n",
        "            w - x2, y1\n",
        "        )\n",
        "\n",
        "\n",
        "\n"
      ],
      "execution_count": 0,
      "outputs": []
    },
    {
      "metadata": {
        "id": "Zn-76RQv5i8c",
        "colab_type": "code",
        "colab": {}
      },
      "cell_type": "code",
      "source": [
        "\n",
        "# -*- coding: utf-8 -*-\n",
        "\n",
        "\"\"\"This module defines Claptcha and ClaptchaError classes.\"\"\"\n",
        "\n",
        "import sys\n",
        "import os\n",
        "import random\n",
        "from functools import wraps\n",
        "from io import BytesIO\n",
        "from PIL import Image, ImageDraw, ImageFont\n",
        "\n",
        "\n",
        "class ClaptchaError(Exception):\n",
        "    \"\"\"Exception class for Claptcha errors.\"\"\"\n",
        "\n",
        "    pass\n",
        "\n",
        "\n",
        "class Claptcha(object):\n",
        "    r\"\"\"\n",
        "    Claptcha class.\n",
        "    Claptcha can be use to create PIL Images, BytesIO objects and image\n",
        "    files with CAPTCHA messages. User has to provide at least a source\n",
        "    (a string containing text used in CAPTCHA image or a callable object\n",
        "    returning a string) and a filepath to TTF font file.\n",
        "    Additionally, Claptcha allows to define image size and estimated\n",
        "    margins, used in automatically calculating font size. By default,\n",
        "    Claptcha generates a PNG image using bicubic resampling filter\n",
        "    (configurable).\n",
        "    Optionally, user can define white noise, making it less readable for\n",
        "    OCR software. However, this significantly extends execution time of\n",
        "    image creation.\n",
        "    \"\"\"\n",
        "\n",
        "    def __init__(self, source, font,\n",
        "                 size=(150, 40), margin=(5, 1),\n",
        "                 **kwargs):\n",
        "        r\"\"\"\n",
        "        Claptcha object init.\n",
        "        Claptcha object requires at least a text source (a string or a\n",
        "        callable object returning a string) and a path to a TTF file. Both\n",
        "        are used in generating text in returned CAPTCHA image with a given\n",
        "        font. Callable object allow for creating variable CAPTCHAs without\n",
        "        redeclaring Claptcha instance, e.g. a randomized stream of characters\n",
        "        :param source:\n",
        "            String or a callable object returning a string.\n",
        "        :param font:\n",
        "            Valid path (relative or absolute) to a TTF file.\n",
        "        :param size:\n",
        "            A pair with CAPTCHA size (width, height)\n",
        "            in pixels.\n",
        "        :param margin:\n",
        "            A pair with CAPTCHA x and y margins in pixels\n",
        "            Note that generated text may slightly overlap\n",
        "            given margins, you should treat them only as\n",
        "            an estimate.\n",
        "        :param \\**kwargs:\n",
        "            See below\n",
        "        :Keyword Arguments:\n",
        "            * *format* (``string``) --\n",
        "              Image format acceptable by Image class from PIL package.\n",
        "            * *resample* (``int``) --\n",
        "              Resampling filter. Allowed: Image.NEAREST, Image.BILINEAR and\n",
        "              Image.BICUBIC. Default: Image.BILINEAR.\n",
        "            * *noise* (``float``) --\n",
        "              Parameter from range [0,1] used in creating noise effect in\n",
        "              CAPTCHA image. If not larger than 1/255, no noise if generated.\n",
        "              It is advised to not use this option if you want to focus on\n",
        "              efficiency, since generating noise can significantly extend\n",
        "              image creation time. Default: 0.\n",
        "        \"\"\"\n",
        "        self.source = source\n",
        "        self.size = size\n",
        "        self.margin = margin\n",
        "        self.font = font\n",
        "\n",
        "        self.format = kwargs.get('format', 'PNG')\n",
        "        self.resample = kwargs.get('resample', Image.BILINEAR)\n",
        "        self.noise = abs(kwargs.get('noise', 0.))\n",
        "\n",
        "    @property\n",
        "    def image(self):\n",
        "        r\"\"\"\n",
        "        Tuple with a CAPTCHA text and a Image object.\n",
        "        Images are generated on the fly, using given text source, TTF font and\n",
        "        other parameters passable through __init__. All letters in used text\n",
        "        are morphed. Also a line is morphed and pased onto CAPTCHA text.\n",
        "        Additionaly, if self.noise > 1/255, a \"snowy\" image is merged with\n",
        "        CAPTCHA image with a 50/50 ratio.\n",
        "        Property returns a pair containing a string with text in returned\n",
        "        image and image itself.\n",
        "        :returns: ``tuple`` (CAPTCHA text, Image object)\n",
        "        \"\"\"\n",
        "        text = self.text\n",
        "        w, h = self.font.getsize(text)\n",
        "        margin_x = round(self.margin_x * w / self.w)\n",
        "        margin_y = round(self.margin_y * h / self.h)\n",
        "\n",
        "        image = Image.new('RGB',\n",
        "                          (w + 2*margin_x, h + 2*margin_y),\n",
        "                          (255, 255, 255))\n",
        "\n",
        "        # Text\n",
        "        self._writeText(image, text, pos=(margin_x, margin_y))\n",
        "\n",
        "        # Line\n",
        "        self._drawLine(image)\n",
        "\n",
        "        # White noise\n",
        "        noise = self._whiteNoise(image.size)\n",
        "        if noise is not None:\n",
        "            image = Image.blend(image, noise, 0.5)\n",
        "\n",
        "        # Resize\n",
        "        image = image.resize(self.size, resample=self.resample)\n",
        "\n",
        "        return (text, image)\n",
        "\n",
        "    @property\n",
        "    def bytes(self):\n",
        "        r\"\"\"\n",
        "        Tuple with a CAPTCHA text and a BytesIO object.\n",
        "        Property calls self.image and saves image contents in a BytesIO\n",
        "        instance, returning CAPTCHA text and BytesIO as a tuple.\n",
        "        See: image.\n",
        "        :returns: ``tuple`` (CAPTCHA text, BytesIO object)\n",
        "        \"\"\"\n",
        "        text, image = self.image\n",
        "        bytes = BytesIO()\n",
        "        image.save(bytes, format=self.format)\n",
        "        bytes.seek(0)\n",
        "        return (text, bytes)\n",
        "\n",
        "    def write(self, file):\n",
        "        r\"\"\"\n",
        "        Save CAPTCHA image in given filepath.\n",
        "        Property calls self.image and saves image contents in a file,\n",
        "        returning CAPTCHA text and filepath as a tuple.\n",
        "        See: image.\n",
        "        :param file:\n",
        "            Path to file, where CAPTCHA image will be saved.\n",
        "        :returns: ``tuple`` (CAPTCHA text, filepath)\n",
        "        \"\"\"\n",
        "        text, image = self.image\n",
        "        image.save(file, format=self.format)\n",
        "        return (text, file)\n",
        "\n",
        "    @property\n",
        "    def source(self):\n",
        "        \"\"\"Text source, either a string or a callable object.\"\"\"\n",
        "        return self.__source\n",
        "\n",
        "    @source.setter\n",
        "    def source(self, source):\n",
        "        if not (isinstance(source, str) or callable(source)):\n",
        "            raise ClaptchaError(\"source has to be either a string or be callable\")\n",
        "        self.__source = source\n",
        "\n",
        "    @property\n",
        "    def text(self):\n",
        "        \"\"\"Text received from self.source.\"\"\"\n",
        "        if isinstance(self.source, str):\n",
        "            return self.source\n",
        "        else:\n",
        "            return self.source()\n",
        "\n",
        "    def _with_pair_validator(func):\n",
        "        @wraps(func)\n",
        "        def wrapper(inst, pair):\n",
        "            if not (hasattr(pair, '__len__') and hasattr(pair, '__getitem__')):\n",
        "                raise ClaptchaError(\"Sequence not provided\")\n",
        "            if len(pair) != 2:\n",
        "                raise ClaptchaError(\"Sequence has to have exactly 2 elements\")\n",
        "            return func(inst, pair)\n",
        "        return wrapper\n",
        "\n",
        "    @property\n",
        "    def size(self):\n",
        "        \"\"\"CAPTCHA image size.\"\"\"\n",
        "        return self.__size\n",
        "\n",
        "    @size.setter\n",
        "    @_with_pair_validator\n",
        "    def size(self, size):\n",
        "        self.__size = (int(size[0]), int(size[1]))\n",
        "\n",
        "    @property\n",
        "    def w(self):\n",
        "        \"\"\"CAPTCHA image width.\"\"\"\n",
        "        return self.size[0]\n",
        "\n",
        "    @property\n",
        "    def h(self):\n",
        "        \"\"\"CAPTCHA image height.\"\"\"\n",
        "        return self.size[1]\n",
        "\n",
        "    @property\n",
        "    def margin(self):\n",
        "        \"\"\"CAPTCHA image estimated margin.\"\"\"\n",
        "        return self.__margin\n",
        "\n",
        "    @margin.setter\n",
        "    @_with_pair_validator\n",
        "    def margin(self, margin):\n",
        "        if 2*margin[1] > self.h:\n",
        "            raise ClaptchaError(\"Margin y cannot be larger than half of image height.\")\n",
        "        self.__margin = (int(margin[0]), int(margin[1]))\n",
        "\n",
        "    @property\n",
        "    def margin_x(self):\n",
        "        \"\"\"CAPTCHA image estimated x margin.\"\"\"\n",
        "        return self.__margin[0]\n",
        "\n",
        "    @property\n",
        "    def margin_y(self):\n",
        "        \"\"\"CAPTCHA image estimated y margin.\"\"\"\n",
        "        return self.__margin[1]\n",
        "\n",
        "    def _with_file_validator(func):\n",
        "        @wraps(func)\n",
        "        def wrapper(inst, file):\n",
        "            if not isinstance(file, ImageFont.ImageFont):\n",
        "                if not os.path.exists(file):\n",
        "                    raise ClaptchaError(\"%s doesn't exist\" % (file,))\n",
        "                if not os.path.isfile(file):\n",
        "                    raise ClaptchaError(\"%s is not a file\" % (file,))\n",
        "            return func(inst, file)\n",
        "        return wrapper\n",
        "\n",
        "    @property\n",
        "    def font(self):\n",
        "        \"\"\"ImageFont object from PIL package.\"\"\"\n",
        "        return self.__font\n",
        "\n",
        "    @font.setter\n",
        "    @_with_file_validator\n",
        "    def font(self, font):\n",
        "        if isinstance(font, ImageFont.ImageFont):\n",
        "            self.__font = font\n",
        "        else:\n",
        "            fontsize = self.h - 2 * self.margin_y\n",
        "            self.__font = ImageFont.truetype(font, fontsize)\n",
        "\n",
        "    @property\n",
        "    def noise(self):\n",
        "        \"\"\"Noise parameter from [0,1].\"\"\"\n",
        "        return self.__noise\n",
        "\n",
        "    @noise.setter\n",
        "    def noise(self, noise):\n",
        "        if noise < 0. or noise > 1.:\n",
        "            raise ClaptchaError(\"only acceptable noise amplitude from range [0:1]\")\n",
        "        self.__noise = noise\n",
        "\n",
        "    def _writeText(self, image, text, pos):\n",
        "        \"\"\"Write morphed text in Image object.\"\"\"\n",
        "        offset = 0\n",
        "        x, y = pos\n",
        "\n",
        "        for c in text:\n",
        "            # Write letter\n",
        "            c_size = self.font.getsize(c)\n",
        "            c_image = Image.new('RGBA', c_size, (0, 0, 0, 0))\n",
        "            c_draw = ImageDraw.Draw(c_image)\n",
        "            c_draw.text((0, 0), c, font=self.font, fill=(0, 0, 0, 255))\n",
        "\n",
        "            # Transform\n",
        "            #c_image = self._rndLetterTransform(c_image)\n",
        "\n",
        "            # Paste onto image\n",
        "            image.paste(c_image, (x+offset, y), c_image)\n",
        "            offset += c_size[0]\n",
        "\n",
        "    def _drawLine(self, image):\n",
        "        \"\"\"Draw morphed line in Image object.\"\"\"\n",
        "        w, h = image.size\n",
        "        w *= 5\n",
        "        h *= 5\n",
        "\n",
        "        l_image = Image.new('RGBA', (w, h), (0, 0, 0, 0))\n",
        "        l_draw = ImageDraw.Draw(l_image)\n",
        "\n",
        "        x1 = int(w *0)\n",
        "        y1 = int(h * 0.68)\n",
        "        x2 = int(w * 1)\n",
        "        y2 = int(h * 0.68)\n",
        "\n",
        "        # Line width modifier was chosen as an educated guess\n",
        "        # based on default image area.\n",
        "        l_width = round((w * h)**0.5 * 2.284e-2)\n",
        "\n",
        "        # Draw\n",
        "        l_draw.line(((x1, y1), (x2, y2)), fill=(0, 0, 0, 255), width=l_width)\n",
        "\n",
        "        # Transform\n",
        "        l_image = self._rndLineTransform(l_image)\n",
        "        l_image = l_image.resize(image.size, resample=self.resample)\n",
        "\n",
        "        # Paste onto image\n",
        "        image.paste(l_image, (0, 0), l_image)\n",
        "\n",
        "    def _whiteNoise(self, size):\n",
        "        \"\"\"Generate white noise and merge it with given Image object.\"\"\"\n",
        "        if self.noise > 0.003921569:  # 1./255.\n",
        "            w, h = size\n",
        "\n",
        "            pixel = (lambda noise: round(255 * random.uniform(1-noise, 1)))\n",
        "\n",
        "            n_image = Image.new('RGB', size, (0, 0, 0, 0))\n",
        "            rnd_grid = map(lambda _: tuple([pixel(self.noise)]) * 3,\n",
        "                           [0] * w * h)\n",
        "            n_image.putdata(list(rnd_grid))\n",
        "            return n_image\n",
        "        else:\n",
        "            return None\n",
        "\n",
        "    def _rndLetterTransform(self, image):\n",
        "        \"\"\"Randomly morph a single character.\"\"\"\n",
        "        w, h = image.size\n",
        "\n",
        "        dx = w * 0\n",
        "        dy = h * 0\n",
        "\n",
        "        x1, y1 = self.__class__._rndPointDisposition(dx, dy)\n",
        "        x2, y2 = self.__class__._rndPointDisposition(dx, dy)\n",
        "\n",
        "        w += abs(x1) + abs(x2)\n",
        "        h += abs(x1) + abs(x2)\n",
        "\n",
        "        quad = self.__class__._quadPoints((w, h), (x1, y1), (x2, y2))\n",
        "\n",
        "        return image.transform(image.size, Image.QUAD,\n",
        "                               data=quad, resample=self.resample)\n",
        "\n",
        "    def _rndLineTransform(self, image):\n",
        "        \"\"\"Randomly morph Image object with drawn line.\"\"\"\n",
        "        w, h = image.size\n",
        "\n",
        "        dx = w * 0\n",
        "        dy = h * 0\n",
        "\n",
        "        x1, y1 = [abs(z) for z in self.__class__._rndPointDisposition(dx, dy)]\n",
        "        x2, y2 = [abs(z) for z in self.__class__._rndPointDisposition(dx, dy)]\n",
        "\n",
        "        quad = self.__class__._quadPoints((w, h), (x1, y1), (x2, y2))\n",
        "\n",
        "        return image.transform(image.size, Image.QUAD,\n",
        "                               data=quad, resample=self.resample)\n",
        "\n",
        "    @staticmethod\n",
        "    def _rndPointDisposition(dx, dy):\n",
        "        \"\"\"Return random disposition point.\"\"\"\n",
        "        x = int(random.uniform(-dx, dx))\n",
        "        y = int(random.uniform(-dy, dy))\n",
        "        return (x, y)\n",
        "\n",
        "    @staticmethod\n",
        "    def _quadPoints(size, disp1, disp2):\n",
        "        \"\"\"Return points for QUAD transformation.\"\"\"\n",
        "        w, h = size\n",
        "        x1, y1 = disp1\n",
        "        x2, y2 = disp2\n",
        "\n",
        "        return (\n",
        "            x1,    -y1,\n",
        "            -x1,    h + y2,\n",
        "            w + x2, h - y2,\n",
        "            w - x2, y1\n",
        "        )\n",
        "\n",
        "\n",
        "\n"
      ],
      "execution_count": 0,
      "outputs": []
    },
    {
      "metadata": {
        "id": "PM8bqEB5ikIt",
        "colab_type": "code",
        "colab": {}
      },
      "cell_type": "code",
      "source": [
        "# Build the neural network!\n",
        "model = Sequential()\n",
        "\n",
        "# First convolutional layer with max pooling\n",
        "model.add(Conv2D(20, (5, 5), padding=\"same\", input_shape=(20, 20, 1), activation=\"relu\"))\n",
        "model.add(MaxPooling2D(pool_size=(2, 2), strides=(2, 2)))\n",
        "\n",
        "# Second convolutional layer with max pooling\n",
        "model.add(Conv2D(50, (5, 5), padding=\"same\", activation=\"relu\"))\n",
        "model.add(MaxPooling2D(pool_size=(2, 2), strides=(2, 2)))\n",
        "\n",
        "# Hidden layer with 500 nodes\n",
        "model.add(Flatten())\n",
        "model.add(Dense(500, activation=\"relu\"))\n",
        "\n",
        "# Output layer with 32 nodes (one for each possible letter/number we predict)\n",
        "model.add(Dense(32, activation=\"softmax\"))\n",
        "\n",
        "# Ask Keras to build the TensorFlow model behind the scenes\n",
        "model.compile(loss=\"categorical_crossentropy\", optimizer=\"adam\", metrics=[\"accuracy\"])"
      ],
      "execution_count": 0,
      "outputs": []
    },
    {
      "metadata": {
        "id": "-Hcb-vNQikGr",
        "colab_type": "code",
        "outputId": "b5f45762-fecd-4837-dc75-b413d094b646",
        "colab": {
          "base_uri": "https://localhost:8080/",
          "height": 35
        }
      },
      "cell_type": "code",
      "source": [
        "!ls\n"
      ],
      "execution_count": 0,
      "outputs": [
        {
          "output_type": "stream",
          "text": [
            "cap1.png  captcha0.png\tsample_data  train_set_clean.zip\n"
          ],
          "name": "stdout"
        }
      ]
    },
    {
      "metadata": {
        "id": "yWkBJ19UikDT",
        "colab_type": "code",
        "outputId": "eafff3c2-9d48-477d-cd89-7a3487eca982",
        "colab": {
          "base_uri": "https://localhost:8080/",
          "height": 97
        }
      },
      "cell_type": "code",
      "source": [
        "from IPython.display import Image as pyimg, display\n",
        "import matplotlib.pyplot as plt\n",
        "\n",
        "display(pyimg('/content/captcha0.png'))\n",
        "display(pyimg('/content/cap1.png'))"
      ],
      "execution_count": 0,
      "outputs": [
        {
          "output_type": "display_data",
          "data": {
            "image/png": "[encoded data removed]",
            "text/plain": [
              "<IPython.core.display.Image object>"
            ]
          },
          "metadata": {
            "tags": []
          }
        },
        {
          "output_type": "display_data",
          "data": {
            "image/png": "[encoded data removed]",
            "text/plain": [
              "<IPython.core.display.Image object>"
            ]
          },
          "metadata": {
            "tags": []
          }
        }
      ]
    },
    {
      "metadata": {
        "id": "S2D__CaMTxce",
        "colab_type": "code",
        "colab": {}
      },
      "cell_type": "code",
      "source": [
        "import cv2\n",
        "import numpy as np\n",
        "from matplotlib import pyplot as plt\n",
        "\n"
      ],
      "execution_count": 0,
      "outputs": []
    },
    {
      "metadata": {
        "id": "dBadNIVFTxoT",
        "colab_type": "code",
        "outputId": "490b4d16-6427-44cc-f439-fd52b9f12b9c",
        "colab": {
          "base_uri": "https://localhost:8080/",
          "height": 695
        }
      },
      "cell_type": "code",
      "source": [
        "img = cv2.imread('/content/captcha0.png',0)\n",
        "plt.hist(img.ravel(),256,[0,256])\n",
        "plt.show()\n",
        "\n",
        "img = cv2.imread('/content/img6.png')\n",
        "plt.hist(img.ravel(),256,[0,256])\n",
        "plt.show()\n",
        "cv2.imwrite(\"result1.png\", img)\n"
      ],
      "execution_count": 0,
      "outputs": [
        {
          "output_type": "display_data",
          "data": {
            "image/png": "[encoded data removed]",
            "text/plain": [
              "<Figure size 576x396 with 1 Axes>"
            ]
          },
          "metadata": {
            "tags": []
          }
        },
        {
          "output_type": "display_data",
          "data": {
            "image/png": "[encoded data removed]",
            "text/plain": [
              "<Figure size 576x396 with 1 Axes>"
            ]
          },
          "metadata": {
            "tags": []
          }
        },
        {
          "output_type": "execute_result",
          "data": {
            "text/plain": [
              "True"
            ]
          },
          "metadata": {
            "tags": []
          },
          "execution_count": 206
        }
      ]
    },
    {
      "metadata": {
        "id": "wQ_L0VyRViMo",
        "colab_type": "code",
        "outputId": "cabef7b5-fbef-43c1-ea6f-864033a9e8d7",
        "colab": {
          "base_uri": "https://localhost:8080/",
          "height": 266
        }
      },
      "cell_type": "code",
      "source": [
        "\n",
        "\n",
        "horizontal_inv = cv2.bitwise_not(img)\n",
        "masked_img = cv2.bitwise_and(img, img, mask=horizontal_inv)\n",
        "masked_img_inv = cv2.bitwise_not(masked_img)\n",
        "cv2.imwrite(\"result1.png\", masked_img_inv)\n",
        "cv2.imwrite(\"result2.png\", masked_img)\n",
        "cv2.imwrite(\"result3.png\", horizontal_inv)\n",
        "\n",
        "\n",
        "kernel = np.ones((1,2),np.uint8)\n",
        "dilation = cv2.dilate(horizontal_inv,kernel,iterations = 2) \n",
        "cv2.imwrite(\"result.png\", dilation)\n",
        "ret,thresh2 = cv2.threshold(dilation,160,255,cv2.THRESH_BINARY_INV) \n",
        "thresh2=cv2.bitwise_not(thresh2)\n",
        "cv2.imwrite(\"resultt.png\", thresh2)"
      ],
      "execution_count": 0,
      "outputs": [
        {
          "output_type": "error",
          "ename": "error",
          "evalue": "ignored",
          "traceback": [
            "\u001b[0;31m---------------------------------------------------------------------------\u001b[0m",
            "\u001b[0;31merror\u001b[0m                                     Traceback (most recent call last)",
            "\u001b[0;32m<ipython-input-207-988759b495b8>\u001b[0m in \u001b[0;36m<module>\u001b[0;34m()\u001b[0m\n\u001b[1;32m      2\u001b[0m \u001b[0;34m\u001b[0m\u001b[0m\n\u001b[1;32m      3\u001b[0m \u001b[0mhorizontal_inv\u001b[0m \u001b[0;34m=\u001b[0m \u001b[0mcv2\u001b[0m\u001b[0;34m.\u001b[0m\u001b[0mbitwise_not\u001b[0m\u001b[0;34m(\u001b[0m\u001b[0mimg\u001b[0m\u001b[0;34m)\u001b[0m\u001b[0;34m\u001b[0m\u001b[0;34m\u001b[0m\u001b[0m\n\u001b[0;32m----> 4\u001b[0;31m \u001b[0mmasked_img\u001b[0m \u001b[0;34m=\u001b[0m \u001b[0mcv2\u001b[0m\u001b[0;34m.\u001b[0m\u001b[0mbitwise_and\u001b[0m\u001b[0;34m(\u001b[0m\u001b[0mimg\u001b[0m\u001b[0;34m,\u001b[0m \u001b[0mimg\u001b[0m\u001b[0;34m,\u001b[0m \u001b[0mmask\u001b[0m\u001b[0;34m=\u001b[0m\u001b[0mhorizontal_inv\u001b[0m\u001b[0;34m)\u001b[0m\u001b[0;34m\u001b[0m\u001b[0;34m\u001b[0m\u001b[0m\n\u001b[0m\u001b[1;32m      5\u001b[0m \u001b[0mmasked_img_inv\u001b[0m \u001b[0;34m=\u001b[0m \u001b[0mcv2\u001b[0m\u001b[0;34m.\u001b[0m\u001b[0mbitwise_not\u001b[0m\u001b[0;34m(\u001b[0m\u001b[0mmasked_img\u001b[0m\u001b[0;34m)\u001b[0m\u001b[0;34m\u001b[0m\u001b[0;34m\u001b[0m\u001b[0m\n\u001b[1;32m      6\u001b[0m \u001b[0mcv2\u001b[0m\u001b[0;34m.\u001b[0m\u001b[0mimwrite\u001b[0m\u001b[0;34m(\u001b[0m\u001b[0;34m\"result1.png\"\u001b[0m\u001b[0;34m,\u001b[0m \u001b[0mmasked_img_inv\u001b[0m\u001b[0;34m)\u001b[0m\u001b[0;34m\u001b[0m\u001b[0;34m\u001b[0m\u001b[0m\n",
            "\u001b[0;31merror\u001b[0m: OpenCV(3.4.3) /io/opencv/modules/core/src/arithm.cpp:241: error: (-215:Assertion failed) (mtype == CV_8U || mtype == CV_8S) && _mask.sameSize(*psrc1) in function 'binary_op'\n"
          ]
        }
      ]
    },
    {
      "metadata": {
        "id": "9ke8Bva6WQPm",
        "colab_type": "code",
        "outputId": "38e7c548-7953-48c3-fbcb-38cd54515fac",
        "colab": {
          "base_uri": "https://localhost:8080/",
          "height": 217
        }
      },
      "cell_type": "code",
      "source": [
        "display(pyimg('/content/cap1.png'))\n",
        "display(pyimg('/content/result3.png'))\n",
        "display(pyimg('/content/result2.png'))\n",
        "display(pyimg('/content/result1.png'))\n",
        "#display(pyimg('/content/result.png'))\n",
        "\n",
        "display(pyimg('/content/resultt.png'))\n",
        "\n"
      ],
      "execution_count": 0,
      "outputs": [
        {
          "output_type": "display_data",
          "data": {
            "image/png": "[encoded data removed]",
            "text/plain": [
              "<IPython.core.display.Image object>"
            ]
          },
          "metadata": {
            "tags": []
          }
        },
        {
          "output_type": "display_data",
          "data": {
            "image/png": "[encoded data removed]",
            "text/plain": [
              "<IPython.core.display.Image object>"
            ]
          },
          "metadata": {
            "tags": []
          }
        },
        {
          "output_type": "display_data",
          "data": {
            "image/png": "[encoded data removed]",
            "text/plain": [
              "<IPython.core.display.Image object>"
            ]
          },
          "metadata": {
            "tags": []
          }
        },
        {
          "output_type": "display_data",
          "data": {
            "image/png": "[encoded data removed]",
            "text/plain": [
              "<IPython.core.display.Image object>"
            ]
          },
          "metadata": {
            "tags": []
          }
        },
        {
          "output_type": "display_data",
          "data": {
            "image/png": "[encoded data removed]",
            "text/plain": [
              "<IPython.core.display.Image object>"
            ]
          },
          "metadata": {
            "tags": []
          }
        }
      ]
    },
    {
      "metadata": {
        "id": "SsT0o3-5eXuW",
        "colab_type": "code",
        "outputId": "967344f6-c046-40d7-db5c-17311410fb12",
        "colab": {
          "base_uri": "https://localhost:8080/",
          "height": 35
        }
      },
      "cell_type": "code",
      "source": [
        "from PIL import Image\n",
        "img = cv2.imread('/content/cap1.png',0)\n",
        "\n",
        "cv2.imwrite(\"resultt.png\", thresh2)"
      ],
      "execution_count": 0,
      "outputs": [
        {
          "output_type": "execute_result",
          "data": {
            "text/plain": [
              "True"
            ]
          },
          "metadata": {
            "tags": []
          },
          "execution_count": 181
        }
      ]
    },
    {
      "metadata": {
        "id": "MCpoUusIhC6_",
        "colab_type": "code",
        "outputId": "23f0b594-338d-4dae-f229-ebb960794ab8",
        "colab": {
          "base_uri": "https://localhost:8080/",
          "height": 146
        }
      },
      "cell_type": "code",
      "source": [
        "display(im2)\n"
      ],
      "execution_count": 0,
      "outputs": [
        {
          "output_type": "display_data",
          "data": {
            "text/plain": [
              "array([[151, 197, 165, ..., 168, 195, 153],\n",
              "       [191, 255, 245, ..., 243, 247, 174],\n",
              "       [164, 247, 247, ..., 255, 255, 180],\n",
              "       ...,\n",
              "       [164, 247, 247, ..., 255, 255, 180],\n",
              "       [191, 255, 245, ..., 243, 247, 174],\n",
              "       [151, 197, 165, ..., 168, 195, 153]], dtype=uint8)"
            ]
          },
          "metadata": {
            "tags": []
          }
        }
      ]
    },
    {
      "metadata": {
        "id": "Btwy6H-gegZc",
        "colab_type": "code",
        "colab": {}
      },
      "cell_type": "code",
      "source": [
        "image = Image.open('/content/img6.png').convert(\"L\") # Grayscale conversion\n",
        "for i in range(12):\n",
        "  \n",
        "  cropped_image = image.crop((0 + 13*i, 0 , 13 + 13*i, 40))\n",
        "  cropped_image.save(\"cropped_image\" + str(i)+\".png\")\n",
        "\n",
        "\n",
        "pixel_matrix = cropped_image.load()\n",
        "for col in range(0, cropped_image.height):\n",
        "    for row in range(0, cropped_image.width):\n",
        "        if pixel_matrix[row, col] >= 150:\n",
        "            pixel_matrix[row, col] = 255\n",
        "image.save(\"thresholded_image.png\")\n"
      ],
      "execution_count": 0,
      "outputs": []
    },
    {
      "metadata": {
        "id": "N7_PiDdqe8vY",
        "colab_type": "code",
        "colab": {}
      },
      "cell_type": "code",
      "source": [
        "display(pyimg('/content/img6.png'))\n",
        "for i in range(12):\n",
        "  \n",
        "  display(pyimg('/content/cropped_image' + str(i) + '.png'))\n",
        "\n",
        "display(pyimg('/content/thresholded_image.png'))\n",
        "\n"
      ],
      "execution_count": 0,
      "outputs": []
    }
  ]
}